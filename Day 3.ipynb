{
 "cells": [
  {
   "cell_type": "code",
   "execution_count": 11,
   "metadata": {},
   "outputs": [
    {
     "name": "stdout",
     "output_type": "stream",
     "text": [
      "Enter the size of list: 2\n",
      "2345\n",
      "23562\n"
     ]
    },
    {
     "data": {
      "text/plain": [
       "1"
      ]
     },
     "execution_count": 11,
     "metadata": {},
     "output_type": "execute_result"
    }
   ],
   "source": [
    "n = int(input('Enter the size of list: '))\n",
    "lst=[]\n",
    "count =0\n",
    "for i in range(n):\n",
    "    s = input()\n",
    "    lst.append(s)\n",
    "len(list(filter(lambda x: (len(x)>2 and (x[0]==x[-1])), lst)))"
   ]
  },
  {
   "cell_type": "code",
   "execution_count": 112,
   "metadata": {},
   "outputs": [
    {
     "name": "stdout",
     "output_type": "stream",
     "text": [
      "[3, 5, 7, 9, 12, 16, 16]\n",
      "\n",
      "68\n",
      "\n",
      "[1, 2, 3, 4, 6, 8, 7, 2, 3, 4, 5, 6, 8, 9]\n"
     ]
    }
   ],
   "source": [
    "from functools import reduce\n",
    "lst = [1,2,3,4,6,8,7]\n",
    "lst1 = [2,3,4,5,6,8,9]\n",
    "print(list(map(lambda x,y: x+y, lst, lst1)))\n",
    "print()\n",
    "a = reduce((lambda x,y: x+y), lst)\n",
    "b = reduce((lambda x,y: x+y), lst1)\n",
    "print(a+b)\n",
    "print()\n",
    "\n",
    "print([*lst, *lst1])\n"
   ]
  },
  {
   "cell_type": "code",
   "execution_count": 132,
   "metadata": {},
   "outputs": [],
   "source": [
    "a = {str(i):i**2 for i in range(1,16)}"
   ]
  },
  {
   "cell_type": "code",
   "execution_count": 55,
   "metadata": {},
   "outputs": [
    {
     "data": {
      "text/plain": [
       "[64, 1, 121, 225, 4, 36, 100, 196, 9, 169, 16, 49, 81, 144, 25]"
      ]
     },
     "execution_count": 55,
     "metadata": {},
     "output_type": "execute_result"
    }
   ],
   "source": [
    "list(set(a.values()))"
   ]
  },
  {
   "cell_type": "code",
   "execution_count": 97,
   "metadata": {},
   "outputs": [
    {
     "data": {
      "text/plain": [
       "0"
      ]
     },
     "execution_count": 97,
     "metadata": {},
     "output_type": "execute_result"
    }
   ],
   "source": [
    "b=[]\n",
    "len(list(filter(lambda a: type(a) is list, a.values())))\n",
    "len(list(map(lambda x,b: type(x) == type(b), a.values(),b)))"
   ]
  },
  {
   "cell_type": "code",
   "execution_count": 133,
   "metadata": {},
   "outputs": [
    {
     "data": {
      "text/plain": [
       "<map at 0x7f42e89be860>"
      ]
     },
     "execution_count": 133,
     "metadata": {},
     "output_type": "execute_result"
    }
   ],
   "source": [
    "b = round(sum(a.values())/len(a.values()),1)\n",
    "map(lambda x: (round(sum(a.values())/len(a.values()),1)), a.values())"
   ]
  },
  {
   "cell_type": "code",
   "execution_count": 134,
   "metadata": {},
   "outputs": [
    {
     "data": {
      "text/plain": [
       "{'1': 1,\n",
       " '2': 4,\n",
       " '3': 9,\n",
       " '4': 16,\n",
       " '5': 25,\n",
       " '6': 36,\n",
       " '7': 49,\n",
       " '8': 64,\n",
       " '9': 81,\n",
       " '10': 100,\n",
       " '11': 121,\n",
       " '12': 144,\n",
       " '13': 169,\n",
       " '14': 196,\n",
       " '15': 225}"
      ]
     },
     "execution_count": 134,
     "metadata": {},
     "output_type": "execute_result"
    }
   ],
   "source": [
    "a"
   ]
  },
  {
   "cell_type": "code",
   "execution_count": 92,
   "metadata": {},
   "outputs": [
    {
     "name": "stdout",
     "output_type": "stream",
     "text": [
      "1 3 4 5 6\n"
     ]
    }
   ],
   "source": [
    "tup = (1,2,3,4,5,6)\n",
    "print(*(filter(lambda x: (x!=2), tup)))"
   ]
  },
  {
   "cell_type": "code",
   "execution_count": 89,
   "metadata": {},
   "outputs": [
    {
     "name": "stdout",
     "output_type": "stream",
     "text": [
      "Enter the size of list: 2\n",
      "23665\n",
      "65356\n",
      "\n",
      "65356\n"
     ]
    }
   ],
   "source": [
    "n = int(input('Enter the size of list: '))\n",
    "lst=[]\n",
    "count =0\n",
    "for i in range(n):\n",
    "    s = input()\n",
    "    lst.append(s)\n",
    "a= (list(filter(lambda x: (x == x[::-1]), lst)))\n",
    "print()\n",
    "print(*a)"
   ]
  },
  {
   "cell_type": "code",
   "execution_count": 100,
   "metadata": {},
   "outputs": [
    {
     "data": {
      "text/plain": [
       "[1, 4, 9, 16, 25, 36, 49, 64, 81, 100, 121, 144, 169, 196, 225]"
      ]
     },
     "execution_count": 100,
     "metadata": {},
     "output_type": "execute_result"
    }
   ],
   "source": [
    "list(filter(lambda x: (x>0), a.values()))"
   ]
  },
  {
   "cell_type": "code",
   "execution_count": 200,
   "metadata": {},
   "outputs": [
    {
     "data": {
      "text/plain": [
       "[[False, False], [['going'], ['sin']]]"
      ]
     },
     "execution_count": 200,
     "metadata": {},
     "output_type": "execute_result"
    }
   ],
   "source": [
    "lst2 = ['going', 'boeing', 'patching', 'trespassing', 'foo', 'boo']\n",
    "sub = [['going'], ['sin']]\n",
    "[list(map(lambda x: x in lst2, sub)), sub]"
   ]
  },
  {
   "cell_type": "code",
   "execution_count": 199,
   "metadata": {},
   "outputs": [
    {
     "data": {
      "text/plain": [
       "[['going'], []]"
      ]
     },
     "execution_count": 199,
     "metadata": {},
     "output_type": "execute_result"
    }
   ],
   "source": [
    "lst3 = [list(filter(lambda x: x in lst2, sublist)) for sublist in sub]\n",
    "lst3"
   ]
  },
  {
   "cell_type": "code",
   "execution_count": 180,
   "metadata": {},
   "outputs": [
    {
     "name": "stdout",
     "output_type": "stream",
     "text": [
      "[['13'], [], [], [], [], [], [], []]\n"
     ]
    }
   ],
   "source": [
    "def intersection(lst1, lst2): \n",
    "    lst3 = [list(filter(lambda x: x in lst1, sublist)) for sublist in lst2] \n",
    "    return lst3 \n",
    "  \n",
    "# Driver Code \n",
    "lst1 = ['13', '28', '32', '41'] \n",
    "lst2 = [['13'], '17', '18', '21', '32', '7', '11', '13'] \n",
    "print(intersection(lst1, lst2))"
   ]
  },
  {
   "cell_type": "code",
   "execution_count": 169,
   "metadata": {},
   "outputs": [
    {
     "data": {
      "text/plain": [
       "True"
      ]
     },
     "execution_count": 169,
     "metadata": {},
     "output_type": "execute_result"
    }
   ],
   "source": [
    "'oin' in 'going'"
   ]
  },
  {
   "cell_type": "code",
   "execution_count": null,
   "metadata": {},
   "outputs": [],
   "source": []
  }
 ],
 "metadata": {
  "kernelspec": {
   "display_name": "Python 3",
   "language": "python",
   "name": "python3"
  },
  "language_info": {
   "codemirror_mode": {
    "name": "ipython",
    "version": 3
   },
   "file_extension": ".py",
   "mimetype": "text/x-python",
   "name": "python",
   "nbconvert_exporter": "python",
   "pygments_lexer": "ipython3",
   "version": "3.7.3"
  }
 },
 "nbformat": 4,
 "nbformat_minor": 2
}
